{
 "cells": [
  {
   "cell_type": "code",
   "execution_count": 359,
   "metadata": {},
   "outputs": [
    {
     "name": "stdout",
     "output_type": "stream",
     "text": [
      "Collecting gdal\n",
      "  Using cached GDAL-3.2.0.tar.gz (602 kB)\n",
      "Building wheels for collected packages: gdal\n",
      "  Building wheel for gdal (setup.py): started\n",
      "  Building wheel for gdal (setup.py): finished with status 'error'\n",
      "  Running setup.py clean for gdal\n",
      "Failed to build gdal\n",
      "Installing collected packages: gdal\n",
      "    Running setup.py install for gdal: started\n",
      "    Running setup.py install for gdal: finished with status 'error'\n",
      "Note: you may need to restart the kernel to use updated packages.\n"
     ]
    },
    {
     "name": "stderr",
     "output_type": "stream",
     "text": [
      "  ERROR: Command errored out with exit status 1:\n",
      "   command: 'C:\\Users\\sony-pc\\anaconda3\\python.exe' -u -c 'import sys, setuptools, tokenize; sys.argv[0] = '\"'\"'C:\\\\Users\\\\sony-pc\\\\AppData\\\\Local\\\\Temp\\\\pip-install-8hy5t9ko\\\\gdal\\\\setup.py'\"'\"'; __file__='\"'\"'C:\\\\Users\\\\sony-pc\\\\AppData\\\\Local\\\\Temp\\\\pip-install-8hy5t9ko\\\\gdal\\\\setup.py'\"'\"';f=getattr(tokenize, '\"'\"'open'\"'\"', open)(__file__);code=f.read().replace('\"'\"'\\r\\n'\"'\"', '\"'\"'\\n'\"'\"');f.close();exec(compile(code, __file__, '\"'\"'exec'\"'\"'))' bdist_wheel -d 'C:\\Users\\sony-pc\\AppData\\Local\\Temp\\pip-wheel-8kp4ctgv'\n",
      "       cwd: C:\\Users\\sony-pc\\AppData\\Local\\Temp\\pip-install-8hy5t9ko\\gdal\\\n",
      "  Complete output (54 lines):\n",
      "  running bdist_wheel\n",
      "  running build\n",
      "  running build_py\n",
      "  creating build\n",
      "  creating build\\lib.win-amd64-3.8\n",
      "  creating build\\lib.win-amd64-3.8\\osgeo\n",
      "  copying osgeo\\gdal.py -> build\\lib.win-amd64-3.8\\osgeo\n",
      "  copying osgeo\\gdalconst.py -> build\\lib.win-amd64-3.8\\osgeo\n",
      "  copying osgeo\\gdalnumeric.py -> build\\lib.win-amd64-3.8\\osgeo\n",
      "  copying osgeo\\gdal_array.py -> build\\lib.win-amd64-3.8\\osgeo\n",
      "  copying osgeo\\gnm.py -> build\\lib.win-amd64-3.8\\osgeo\n",
      "  copying osgeo\\ogr.py -> build\\lib.win-amd64-3.8\\osgeo\n",
      "  copying osgeo\\osr.py -> build\\lib.win-amd64-3.8\\osgeo\n",
      "  copying osgeo\\__init__.py -> build\\lib.win-amd64-3.8\\osgeo\n",
      "  creating build\\lib.win-amd64-3.8\\osgeo\\utils\n",
      "  copying osgeo\\utils\\epsg_tr.py -> build\\lib.win-amd64-3.8\\osgeo\\utils\n",
      "  copying osgeo\\utils\\esri2wkt.py -> build\\lib.win-amd64-3.8\\osgeo\\utils\n",
      "  copying osgeo\\utils\\gcps2vec.py -> build\\lib.win-amd64-3.8\\osgeo\\utils\n",
      "  copying osgeo\\utils\\gcps2wld.py -> build\\lib.win-amd64-3.8\\osgeo\\utils\n",
      "  copying osgeo\\utils\\gdal2xyz.py -> build\\lib.win-amd64-3.8\\osgeo\\utils\n",
      "  copying osgeo\\utils\\gdalchksum.py -> build\\lib.win-amd64-3.8\\osgeo\\utils\n",
      "  copying osgeo\\utils\\gdalcompare.py -> build\\lib.win-amd64-3.8\\osgeo\\utils\n",
      "  copying osgeo\\utils\\gdalident.py -> build\\lib.win-amd64-3.8\\osgeo\\utils\n",
      "  copying osgeo\\utils\\gdalimport.py -> build\\lib.win-amd64-3.8\\osgeo\\utils\n",
      "  copying osgeo\\utils\\gdalmove.py -> build\\lib.win-amd64-3.8\\osgeo\\utils\n",
      "  copying osgeo\\utils\\gdal_auth.py -> build\\lib.win-amd64-3.8\\osgeo\\utils\n",
      "  copying osgeo\\utils\\gdal_calc.py -> build\\lib.win-amd64-3.8\\osgeo\\utils\n",
      "  copying osgeo\\utils\\gdal_edit.py -> build\\lib.win-amd64-3.8\\osgeo\\utils\n",
      "  copying osgeo\\utils\\gdal_fillnodata.py -> build\\lib.win-amd64-3.8\\osgeo\\utils\n",
      "  copying osgeo\\utils\\gdal_merge.py -> build\\lib.win-amd64-3.8\\osgeo\\utils\n",
      "  copying osgeo\\utils\\gdal_pansharpen.py -> build\\lib.win-amd64-3.8\\osgeo\\utils\n",
      "  copying osgeo\\utils\\gdal_polygonize.py -> build\\lib.win-amd64-3.8\\osgeo\\utils\n",
      "  copying osgeo\\utils\\gdal_proximity.py -> build\\lib.win-amd64-3.8\\osgeo\\utils\n",
      "  copying osgeo\\utils\\gdal_retile.py -> build\\lib.win-amd64-3.8\\osgeo\\utils\n",
      "  copying osgeo\\utils\\gdal_sieve.py -> build\\lib.win-amd64-3.8\\osgeo\\utils\n",
      "  copying osgeo\\utils\\mkgraticule.py -> build\\lib.win-amd64-3.8\\osgeo\\utils\n",
      "  copying osgeo\\utils\\ogrmerge.py -> build\\lib.win-amd64-3.8\\osgeo\\utils\n",
      "  copying osgeo\\utils\\pct2rgb.py -> build\\lib.win-amd64-3.8\\osgeo\\utils\n",
      "  copying osgeo\\utils\\rgb2pct.py -> build\\lib.win-amd64-3.8\\osgeo\\utils\n",
      "  copying osgeo\\utils\\__init__.py -> build\\lib.win-amd64-3.8\\osgeo\\utils\n",
      "  C:\\Users\\sony-pc\\anaconda3\\lib\\site-packages\\setuptools\\lib2to3_ex.py:39: SetuptoolsDeprecationWarning: 2to3 support is deprecated. If the project still requires Python 2 support, please migrate to a single-codebase solution or employ an independent conversion process.\n",
      "    warnings.warn(\n",
      "  Fixing build\\lib.win-amd64-3.8\\osgeo\\gdal.py build\\lib.win-amd64-3.8\\osgeo\\gdalconst.py build\\lib.win-amd64-3.8\\osgeo\\gdalnumeric.py build\\lib.win-amd64-3.8\\osgeo\\gdal_array.py build\\lib.win-amd64-3.8\\osgeo\\gnm.py build\\lib.win-amd64-3.8\\osgeo\\ogr.py build\\lib.win-amd64-3.8\\osgeo\\osr.py build\\lib.win-amd64-3.8\\osgeo\\__init__.py build\\lib.win-amd64-3.8\\osgeo\\utils\\epsg_tr.py build\\lib.win-amd64-3.8\\osgeo\\utils\\esri2wkt.py build\\lib.win-amd64-3.8\\osgeo\\utils\\gcps2vec.py build\\lib.win-amd64-3.8\\osgeo\\utils\\gcps2wld.py build\\lib.win-amd64-3.8\\osgeo\\utils\\gdal2xyz.py build\\lib.win-amd64-3.8\\osgeo\\utils\\gdalchksum.py build\\lib.win-amd64-3.8\\osgeo\\utils\\gdalcompare.py build\\lib.win-amd64-3.8\\osgeo\\utils\\gdalident.py build\\lib.win-amd64-3.8\\osgeo\\utils\\gdalimport.py build\\lib.win-amd64-3.8\\osgeo\\utils\\gdalmove.py build\\lib.win-amd64-3.8\\osgeo\\utils\\gdal_auth.py build\\lib.win-amd64-3.8\\osgeo\\utils\\gdal_calc.py build\\lib.win-amd64-3.8\\osgeo\\utils\\gdal_edit.py build\\lib.win-amd64-3.8\\osgeo\\utils\\gdal_fillnodata.py build\\lib.win-amd64-3.8\\osgeo\\utils\\gdal_merge.py build\\lib.win-amd64-3.8\\osgeo\\utils\\gdal_pansharpen.py build\\lib.win-amd64-3.8\\osgeo\\utils\\gdal_polygonize.py build\\lib.win-amd64-3.8\\osgeo\\utils\\gdal_proximity.py build\\lib.win-amd64-3.8\\osgeo\\utils\\gdal_retile.py build\\lib.win-amd64-3.8\\osgeo\\utils\\gdal_sieve.py build\\lib.win-amd64-3.8\\osgeo\\utils\\mkgraticule.py build\\lib.win-amd64-3.8\\osgeo\\utils\\ogrmerge.py build\\lib.win-amd64-3.8\\osgeo\\utils\\pct2rgb.py build\\lib.win-amd64-3.8\\osgeo\\utils\\rgb2pct.py build\\lib.win-amd64-3.8\\osgeo\\utils\\__init__.py\n",
      "  Skipping optional fixer: ws_comma\n",
      "  Fixing build\\lib.win-amd64-3.8\\osgeo\\gdal.py build\\lib.win-amd64-3.8\\osgeo\\gdalconst.py build\\lib.win-amd64-3.8\\osgeo\\gdalnumeric.py build\\lib.win-amd64-3.8\\osgeo\\gdal_array.py build\\lib.win-amd64-3.8\\osgeo\\gnm.py build\\lib.win-amd64-3.8\\osgeo\\ogr.py build\\lib.win-amd64-3.8\\osgeo\\osr.py build\\lib.win-amd64-3.8\\osgeo\\__init__.py build\\lib.win-amd64-3.8\\osgeo\\utils\\epsg_tr.py build\\lib.win-amd64-3.8\\osgeo\\utils\\esri2wkt.py build\\lib.win-amd64-3.8\\osgeo\\utils\\gcps2vec.py build\\lib.win-amd64-3.8\\osgeo\\utils\\gcps2wld.py build\\lib.win-amd64-3.8\\osgeo\\utils\\gdal2xyz.py build\\lib.win-amd64-3.8\\osgeo\\utils\\gdalchksum.py build\\lib.win-amd64-3.8\\osgeo\\utils\\gdalcompare.py build\\lib.win-amd64-3.8\\osgeo\\utils\\gdalident.py build\\lib.win-amd64-3.8\\osgeo\\utils\\gdalimport.py build\\lib.win-amd64-3.8\\osgeo\\utils\\gdalmove.py build\\lib.win-amd64-3.8\\osgeo\\utils\\gdal_auth.py build\\lib.win-amd64-3.8\\osgeo\\utils\\gdal_calc.py build\\lib.win-amd64-3.8\\osgeo\\utils\\gdal_edit.py build\\lib.win-amd64-3.8\\osgeo\\utils\\gdal_fillnodata.py build\\lib.win-amd64-3.8\\osgeo\\utils\\gdal_merge.py build\\lib.win-amd64-3.8\\osgeo\\utils\\gdal_pansharpen.py build\\lib.win-amd64-3.8\\osgeo\\utils\\gdal_polygonize.py build\\lib.win-amd64-3.8\\osgeo\\utils\\gdal_proximity.py build\\lib.win-amd64-3.8\\osgeo\\utils\\gdal_retile.py build\\lib.win-amd64-3.8\\osgeo\\utils\\gdal_sieve.py build\\lib.win-amd64-3.8\\osgeo\\utils\\mkgraticule.py build\\lib.win-amd64-3.8\\osgeo\\utils\\ogrmerge.py build\\lib.win-amd64-3.8\\osgeo\\utils\\pct2rgb.py build\\lib.win-amd64-3.8\\osgeo\\utils\\rgb2pct.py build\\lib.win-amd64-3.8\\osgeo\\utils\\__init__.py\n",
      "  Skipping optional fixer: ws_comma\n",
      "  running build_ext\n",
      "  building 'osgeo._gdal' extension\n",
      "  building 'osgeo._gdalconst' extension\n",
      "  building 'osgeo._osr' extension\n",
      "  building 'osgeo._ogr' extension\n",
      "  building 'osgeo._gnm' extension\n",
      "  building 'osgeo._gdal_array' extension\n",
      "  error: Microsoft Visual C++ 14.0 is required. Get it with \"Build Tools for Visual Studio\": https://visualstudio.microsoft.com/downloads/\n",
      "  ----------------------------------------\n",
      "  ERROR: Failed building wheel for gdal\n",
      "    ERROR: Command errored out with exit status 1:\n",
      "     command: 'C:\\Users\\sony-pc\\anaconda3\\python.exe' -u -c 'import sys, setuptools, tokenize; sys.argv[0] = '\"'\"'C:\\\\Users\\\\sony-pc\\\\AppData\\\\Local\\\\Temp\\\\pip-install-8hy5t9ko\\\\gdal\\\\setup.py'\"'\"'; __file__='\"'\"'C:\\\\Users\\\\sony-pc\\\\AppData\\\\Local\\\\Temp\\\\pip-install-8hy5t9ko\\\\gdal\\\\setup.py'\"'\"';f=getattr(tokenize, '\"'\"'open'\"'\"', open)(__file__);code=f.read().replace('\"'\"'\\r\\n'\"'\"', '\"'\"'\\n'\"'\"');f.close();exec(compile(code, __file__, '\"'\"'exec'\"'\"'))' install --record 'C:\\Users\\sony-pc\\AppData\\Local\\Temp\\pip-record-da4ytxxt\\install-record.txt' --single-version-externally-managed --compile --install-headers 'C:\\Users\\sony-pc\\anaconda3\\Include\\gdal'\n",
      "         cwd: C:\\Users\\sony-pc\\AppData\\Local\\Temp\\pip-install-8hy5t9ko\\gdal\\\n",
      "    Complete output (54 lines):\n",
      "    running install\n",
      "    running build\n",
      "    running build_py\n",
      "    creating build\n",
      "    creating build\\lib.win-amd64-3.8\n",
      "    creating build\\lib.win-amd64-3.8\\osgeo\n",
      "    copying osgeo\\gdal.py -> build\\lib.win-amd64-3.8\\osgeo\n",
      "    copying osgeo\\gdalconst.py -> build\\lib.win-amd64-3.8\\osgeo\n",
      "    copying osgeo\\gdalnumeric.py -> build\\lib.win-amd64-3.8\\osgeo\n",
      "    copying osgeo\\gdal_array.py -> build\\lib.win-amd64-3.8\\osgeo\n",
      "    copying osgeo\\gnm.py -> build\\lib.win-amd64-3.8\\osgeo\n",
      "    copying osgeo\\ogr.py -> build\\lib.win-amd64-3.8\\osgeo\n",
      "    copying osgeo\\osr.py -> build\\lib.win-amd64-3.8\\osgeo\n",
      "    copying osgeo\\__init__.py -> build\\lib.win-amd64-3.8\\osgeo\n",
      "    creating build\\lib.win-amd64-3.8\\osgeo\\utils\n",
      "    copying osgeo\\utils\\epsg_tr.py -> build\\lib.win-amd64-3.8\\osgeo\\utils\n",
      "    copying osgeo\\utils\\esri2wkt.py -> build\\lib.win-amd64-3.8\\osgeo\\utils\n",
      "    copying osgeo\\utils\\gcps2vec.py -> build\\lib.win-amd64-3.8\\osgeo\\utils\n",
      "    copying osgeo\\utils\\gcps2wld.py -> build\\lib.win-amd64-3.8\\osgeo\\utils\n",
      "    copying osgeo\\utils\\gdal2xyz.py -> build\\lib.win-amd64-3.8\\osgeo\\utils\n",
      "    copying osgeo\\utils\\gdalchksum.py -> build\\lib.win-amd64-3.8\\osgeo\\utils\n",
      "    copying osgeo\\utils\\gdalcompare.py -> build\\lib.win-amd64-3.8\\osgeo\\utils\n",
      "    copying osgeo\\utils\\gdalident.py -> build\\lib.win-amd64-3.8\\osgeo\\utils\n",
      "    copying osgeo\\utils\\gdalimport.py -> build\\lib.win-amd64-3.8\\osgeo\\utils\n",
      "    copying osgeo\\utils\\gdalmove.py -> build\\lib.win-amd64-3.8\\osgeo\\utils\n",
      "    copying osgeo\\utils\\gdal_auth.py -> build\\lib.win-amd64-3.8\\osgeo\\utils\n",
      "    copying osgeo\\utils\\gdal_calc.py -> build\\lib.win-amd64-3.8\\osgeo\\utils\n",
      "    copying osgeo\\utils\\gdal_edit.py -> build\\lib.win-amd64-3.8\\osgeo\\utils\n",
      "    copying osgeo\\utils\\gdal_fillnodata.py -> build\\lib.win-amd64-3.8\\osgeo\\utils\n",
      "    copying osgeo\\utils\\gdal_merge.py -> build\\lib.win-amd64-3.8\\osgeo\\utils\n",
      "    copying osgeo\\utils\\gdal_pansharpen.py -> build\\lib.win-amd64-3.8\\osgeo\\utils\n",
      "    copying osgeo\\utils\\gdal_polygonize.py -> build\\lib.win-amd64-3.8\\osgeo\\utils\n",
      "    copying osgeo\\utils\\gdal_proximity.py -> build\\lib.win-amd64-3.8\\osgeo\\utils\n",
      "    copying osgeo\\utils\\gdal_retile.py -> build\\lib.win-amd64-3.8\\osgeo\\utils\n",
      "    copying osgeo\\utils\\gdal_sieve.py -> build\\lib.win-amd64-3.8\\osgeo\\utils\n",
      "    copying osgeo\\utils\\mkgraticule.py -> build\\lib.win-amd64-3.8\\osgeo\\utils\n",
      "    copying osgeo\\utils\\ogrmerge.py -> build\\lib.win-amd64-3.8\\osgeo\\utils\n",
      "    copying osgeo\\utils\\pct2rgb.py -> build\\lib.win-amd64-3.8\\osgeo\\utils\n",
      "    copying osgeo\\utils\\rgb2pct.py -> build\\lib.win-amd64-3.8\\osgeo\\utils\n",
      "    copying osgeo\\utils\\__init__.py -> build\\lib.win-amd64-3.8\\osgeo\\utils\n",
      "    C:\\Users\\sony-pc\\anaconda3\\lib\\site-packages\\setuptools\\lib2to3_ex.py:39: SetuptoolsDeprecationWarning: 2to3 support is deprecated. If the project still requires Python 2 support, please migrate to a single-codebase solution or employ an independent conversion process.\n",
      "      warnings.warn(\n",
      "    Fixing build\\lib.win-amd64-3.8\\osgeo\\gdal.py build\\lib.win-amd64-3.8\\osgeo\\gdalconst.py build\\lib.win-amd64-3.8\\osgeo\\gdalnumeric.py build\\lib.win-amd64-3.8\\osgeo\\gdal_array.py build\\lib.win-amd64-3.8\\osgeo\\gnm.py build\\lib.win-amd64-3.8\\osgeo\\ogr.py build\\lib.win-amd64-3.8\\osgeo\\osr.py build\\lib.win-amd64-3.8\\osgeo\\__init__.py build\\lib.win-amd64-3.8\\osgeo\\utils\\epsg_tr.py build\\lib.win-amd64-3.8\\osgeo\\utils\\esri2wkt.py build\\lib.win-amd64-3.8\\osgeo\\utils\\gcps2vec.py build\\lib.win-amd64-3.8\\osgeo\\utils\\gcps2wld.py build\\lib.win-amd64-3.8\\osgeo\\utils\\gdal2xyz.py build\\lib.win-amd64-3.8\\osgeo\\utils\\gdalchksum.py build\\lib.win-amd64-3.8\\osgeo\\utils\\gdalcompare.py build\\lib.win-amd64-3.8\\osgeo\\utils\\gdalident.py build\\lib.win-amd64-3.8\\osgeo\\utils\\gdalimport.py build\\lib.win-amd64-3.8\\osgeo\\utils\\gdalmove.py build\\lib.win-amd64-3.8\\osgeo\\utils\\gdal_auth.py build\\lib.win-amd64-3.8\\osgeo\\utils\\gdal_calc.py build\\lib.win-amd64-3.8\\osgeo\\utils\\gdal_edit.py build\\lib.win-amd64-3.8\\osgeo\\utils\\gdal_fillnodata.py build\\lib.win-amd64-3.8\\osgeo\\utils\\gdal_merge.py build\\lib.win-amd64-3.8\\osgeo\\utils\\gdal_pansharpen.py build\\lib.win-amd64-3.8\\osgeo\\utils\\gdal_polygonize.py build\\lib.win-amd64-3.8\\osgeo\\utils\\gdal_proximity.py build\\lib.win-amd64-3.8\\osgeo\\utils\\gdal_retile.py build\\lib.win-amd64-3.8\\osgeo\\utils\\gdal_sieve.py build\\lib.win-amd64-3.8\\osgeo\\utils\\mkgraticule.py build\\lib.win-amd64-3.8\\osgeo\\utils\\ogrmerge.py build\\lib.win-amd64-3.8\\osgeo\\utils\\pct2rgb.py build\\lib.win-amd64-3.8\\osgeo\\utils\\rgb2pct.py build\\lib.win-amd64-3.8\\osgeo\\utils\\__init__.py\n",
      "    Skipping optional fixer: ws_comma\n",
      "    Fixing build\\lib.win-amd64-3.8\\osgeo\\gdal.py build\\lib.win-amd64-3.8\\osgeo\\gdalconst.py build\\lib.win-amd64-3.8\\osgeo\\gdalnumeric.py build\\lib.win-amd64-3.8\\osgeo\\gdal_array.py build\\lib.win-amd64-3.8\\osgeo\\gnm.py build\\lib.win-amd64-3.8\\osgeo\\ogr.py build\\lib.win-amd64-3.8\\osgeo\\osr.py build\\lib.win-amd64-3.8\\osgeo\\__init__.py build\\lib.win-amd64-3.8\\osgeo\\utils\\epsg_tr.py build\\lib.win-amd64-3.8\\osgeo\\utils\\esri2wkt.py build\\lib.win-amd64-3.8\\osgeo\\utils\\gcps2vec.py build\\lib.win-amd64-3.8\\osgeo\\utils\\gcps2wld.py build\\lib.win-amd64-3.8\\osgeo\\utils\\gdal2xyz.py build\\lib.win-amd64-3.8\\osgeo\\utils\\gdalchksum.py build\\lib.win-amd64-3.8\\osgeo\\utils\\gdalcompare.py build\\lib.win-amd64-3.8\\osgeo\\utils\\gdalident.py build\\lib.win-amd64-3.8\\osgeo\\utils\\gdalimport.py build\\lib.win-amd64-3.8\\osgeo\\utils\\gdalmove.py build\\lib.win-amd64-3.8\\osgeo\\utils\\gdal_auth.py build\\lib.win-amd64-3.8\\osgeo\\utils\\gdal_calc.py build\\lib.win-amd64-3.8\\osgeo\\utils\\gdal_edit.py build\\lib.win-amd64-3.8\\osgeo\\utils\\gdal_fillnodata.py build\\lib.win-amd64-3.8\\osgeo\\utils\\gdal_merge.py build\\lib.win-amd64-3.8\\osgeo\\utils\\gdal_pansharpen.py build\\lib.win-amd64-3.8\\osgeo\\utils\\gdal_polygonize.py build\\lib.win-amd64-3.8\\osgeo\\utils\\gdal_proximity.py build\\lib.win-amd64-3.8\\osgeo\\utils\\gdal_retile.py build\\lib.win-amd64-3.8\\osgeo\\utils\\gdal_sieve.py build\\lib.win-amd64-3.8\\osgeo\\utils\\mkgraticule.py build\\lib.win-amd64-3.8\\osgeo\\utils\\ogrmerge.py build\\lib.win-amd64-3.8\\osgeo\\utils\\pct2rgb.py build\\lib.win-amd64-3.8\\osgeo\\utils\\rgb2pct.py build\\lib.win-amd64-3.8\\osgeo\\utils\\__init__.py\n",
      "    Skipping optional fixer: ws_comma\n",
      "    running build_ext\n",
      "    building 'osgeo._gdal' extension\n",
      "    building 'osgeo._gdalconst' extension\n",
      "    building 'osgeo._osr' extension\n",
      "    building 'osgeo._ogr' extension\n",
      "    building 'osgeo._gnm' extension\n",
      "    building 'osgeo._gdal_array' extension\n",
      "    error: Microsoft Visual C++ 14.0 is required. Get it with \"Build Tools for Visual Studio\": https://visualstudio.microsoft.com/downloads/\n",
      "    ----------------------------------------\n",
      "ERROR: Command errored out with exit status 1: 'C:\\Users\\sony-pc\\anaconda3\\python.exe' -u -c 'import sys, setuptools, tokenize; sys.argv[0] = '\"'\"'C:\\\\Users\\\\sony-pc\\\\AppData\\\\Local\\\\Temp\\\\pip-install-8hy5t9ko\\\\gdal\\\\setup.py'\"'\"'; __file__='\"'\"'C:\\\\Users\\\\sony-pc\\\\AppData\\\\Local\\\\Temp\\\\pip-install-8hy5t9ko\\\\gdal\\\\setup.py'\"'\"';f=getattr(tokenize, '\"'\"'open'\"'\"', open)(__file__);code=f.read().replace('\"'\"'\\r\\n'\"'\"', '\"'\"'\\n'\"'\"');f.close();exec(compile(code, __file__, '\"'\"'exec'\"'\"'))' install --record 'C:\\Users\\sony-pc\\AppData\\Local\\Temp\\pip-record-da4ytxxt\\install-record.txt' --single-version-externally-managed --compile --install-headers 'C:\\Users\\sony-pc\\anaconda3\\Include\\gdal' Check the logs for full command output.\n"
     ]
    }
   ],
   "source": [
    "pip install gdal"
   ]
  },
  {
   "cell_type": "code",
   "execution_count": 355,
   "metadata": {
    "scrolled": true
   },
   "outputs": [
    {
     "name": "stdout",
     "output_type": "stream",
     "text": [
      "Collecting geopandas\n",
      "  Using cached geopandas-0.8.1-py2.py3-none-any.whl (962 kB)\n",
      "Collecting shapely\n",
      "  Using cached Shapely-1.7.1-cp38-cp38-win_amd64.whl (1.0 MB)\n",
      "Requirement already satisfied: pyproj>=2.2.0 in c:\\users\\sony-pc\\anaconda3\\lib\\site-packages (from geopandas) (3.0.0.post1)\n",
      "Requirement already satisfied: pandas>=0.23.0 in c:\\users\\sony-pc\\anaconda3\\lib\\site-packages (from geopandas) (1.0.5)\n",
      "Collecting fiona\n",
      "  Using cached Fiona-1.8.17.tar.gz (1.3 MB)\n",
      "Note: you may need to restart the kernel to use updated packages.\n"
     ]
    },
    {
     "name": "stderr",
     "output_type": "stream",
     "text": [
      "    ERROR: Command errored out with exit status 1:\n",
      "     command: 'C:\\Users\\sony-pc\\anaconda3\\python.exe' -c 'import sys, setuptools, tokenize; sys.argv[0] = '\"'\"'C:\\\\Users\\\\sony-pc\\\\AppData\\\\Local\\\\Temp\\\\pip-install-2i2ogcmt\\\\fiona\\\\setup.py'\"'\"'; __file__='\"'\"'C:\\\\Users\\\\sony-pc\\\\AppData\\\\Local\\\\Temp\\\\pip-install-2i2ogcmt\\\\fiona\\\\setup.py'\"'\"';f=getattr(tokenize, '\"'\"'open'\"'\"', open)(__file__);code=f.read().replace('\"'\"'\\r\\n'\"'\"', '\"'\"'\\n'\"'\"');f.close();exec(compile(code, __file__, '\"'\"'exec'\"'\"'))' egg_info --egg-base 'C:\\Users\\sony-pc\\AppData\\Local\\Temp\\pip-pip-egg-info-safn52mk'\n",
      "         cwd: C:\\Users\\sony-pc\\AppData\\Local\\Temp\\pip-install-2i2ogcmt\\fiona\\\n",
      "    Complete output (1 lines):\n",
      "    A GDAL API version must be specified. Provide a path to gdal-config using a GDAL_CONFIG environment variable or use a GDAL_VERSION environment variable.\n",
      "    ----------------------------------------\n",
      "ERROR: Command errored out with exit status 1: python setup.py egg_info Check the logs for full command output.\n"
     ]
    }
   ],
   "source": [
    "pip install geopandas\n"
   ]
  },
  {
   "cell_type": "code",
   "execution_count": 220,
   "metadata": {},
   "outputs": [],
   "source": [
    "os.chdir(r\"C:\\Users\\sony-pc\")"
   ]
  },
  {
   "cell_type": "code",
   "execution_count": 3,
   "metadata": {
    "scrolled": true
   },
   "outputs": [],
   "source": [
    "import nltk\n",
    "import os\n",
    "import pandas as pd\n",
    "import numpy as np\n",
    "import matplotlib.pyplot as plt\n",
    "from warnings import filterwarnings\n",
    "#import geop\n",
    "#from googletrans import Translator\n",
    "import re\n",
    "filterwarnings(\"ignore\")"
   ]
  },
  {
   "cell_type": "code",
   "execution_count": 4,
   "metadata": {},
   "outputs": [],
   "source": [
    "#Modifying the directory\n",
    "path = \"D:/Data Sets/US elections 2020\""
   ]
  },
  {
   "cell_type": "code",
   "execution_count": 5,
   "metadata": {},
   "outputs": [],
   "source": [
    "#Loading the datasets\n",
    "trump = pd.read_csv(path + \"/hashtag_donaldtrump.csv\", lineterminator='\\n')\n",
    "biden = pd.read_csv(path + \"/hashtag_joebiden.csv\", lineterminator='\\n')"
   ]
  },
  {
   "cell_type": "code",
   "execution_count": 6,
   "metadata": {},
   "outputs": [
    {
     "name": "stdout",
     "output_type": "stream",
     "text": [
      "<class 'pandas.core.frame.DataFrame'>\n",
      "RangeIndex: 776886 entries, 0 to 776885\n",
      "Data columns (total 21 columns):\n",
      " #   Column                Non-Null Count   Dtype  \n",
      "---  ------                --------------   -----  \n",
      " 0   created_at            776886 non-null  object \n",
      " 1   tweet_id              776886 non-null  float64\n",
      " 2   tweet                 776886 non-null  object \n",
      " 3   likes                 776886 non-null  float64\n",
      " 4   retweet_count         776886 non-null  float64\n",
      " 5   source                776173 non-null  object \n",
      " 6   user_id               776886 non-null  float64\n",
      " 7   user_name             776868 non-null  object \n",
      " 8   user_screen_name      776886 non-null  object \n",
      " 9   user_description      694880 non-null  object \n",
      " 10  user_join_date        776886 non-null  object \n",
      " 11  user_followers_count  776886 non-null  float64\n",
      " 12  user_location         543095 non-null  object \n",
      " 13  lat                   355293 non-null  float64\n",
      " 14  long                  355293 non-null  float64\n",
      " 15  city                  186872 non-null  object \n",
      " 16  country               353779 non-null  object \n",
      " 17  continent             353797 non-null  object \n",
      " 18  state                 260195 non-null  object \n",
      " 19  state_code            244609 non-null  object \n",
      " 20  collected_at          776886 non-null  object \n",
      "dtypes: float64(7), object(14)\n",
      "memory usage: 124.5+ MB\n"
     ]
    }
   ],
   "source": [
    "biden.info()"
   ]
  },
  {
   "cell_type": "code",
   "execution_count": 7,
   "metadata": {},
   "outputs": [
    {
     "name": "stdout",
     "output_type": "stream",
     "text": [
      "<class 'pandas.core.frame.DataFrame'>\n",
      "RangeIndex: 970919 entries, 0 to 970918\n",
      "Data columns (total 21 columns):\n",
      " #   Column                Non-Null Count   Dtype  \n",
      "---  ------                --------------   -----  \n",
      " 0   created_at            970919 non-null  object \n",
      " 1   tweet_id              970919 non-null  float64\n",
      " 2   tweet                 970919 non-null  object \n",
      " 3   likes                 970919 non-null  float64\n",
      " 4   retweet_count         970919 non-null  float64\n",
      " 5   source                970043 non-null  object \n",
      " 6   user_id               970919 non-null  float64\n",
      " 7   user_name             970903 non-null  object \n",
      " 8   user_screen_name      970919 non-null  object \n",
      " 9   user_description      869653 non-null  object \n",
      " 10  user_join_date        970919 non-null  object \n",
      " 11  user_followers_count  970919 non-null  float64\n",
      " 12  user_location         675966 non-null  object \n",
      " 13  lat                   445719 non-null  float64\n",
      " 14  long                  445719 non-null  float64\n",
      " 15  city                  227187 non-null  object \n",
      " 16  country               442748 non-null  object \n",
      " 17  continent             442765 non-null  object \n",
      " 18  state                 320620 non-null  object \n",
      " 19  state_code            300425 non-null  object \n",
      " 20  collected_at          970919 non-null  object \n",
      "dtypes: float64(7), object(14)\n",
      "memory usage: 155.6+ MB\n"
     ]
    }
   ],
   "source": [
    "trump.info()"
   ]
  },
  {
   "cell_type": "code",
   "execution_count": 8,
   "metadata": {},
   "outputs": [
    {
     "data": {
      "text/html": [
       "<div>\n",
       "<style scoped>\n",
       "    .dataframe tbody tr th:only-of-type {\n",
       "        vertical-align: middle;\n",
       "    }\n",
       "\n",
       "    .dataframe tbody tr th {\n",
       "        vertical-align: top;\n",
       "    }\n",
       "\n",
       "    .dataframe thead th {\n",
       "        text-align: right;\n",
       "    }\n",
       "</style>\n",
       "<table border=\"1\" class=\"dataframe\">\n",
       "  <thead>\n",
       "    <tr style=\"text-align: right;\">\n",
       "      <th></th>\n",
       "      <th>created_at</th>\n",
       "      <th>tweet_id</th>\n",
       "      <th>tweet</th>\n",
       "      <th>likes</th>\n",
       "      <th>retweet_count</th>\n",
       "      <th>source</th>\n",
       "      <th>user_id</th>\n",
       "      <th>user_name</th>\n",
       "      <th>user_screen_name</th>\n",
       "      <th>user_description</th>\n",
       "      <th>...</th>\n",
       "      <th>user_followers_count</th>\n",
       "      <th>user_location</th>\n",
       "      <th>lat</th>\n",
       "      <th>long</th>\n",
       "      <th>city</th>\n",
       "      <th>country</th>\n",
       "      <th>continent</th>\n",
       "      <th>state</th>\n",
       "      <th>state_code</th>\n",
       "      <th>collected_at</th>\n",
       "    </tr>\n",
       "  </thead>\n",
       "  <tbody>\n",
       "    <tr>\n",
       "      <th>0</th>\n",
       "      <td>2020-10-15 00:00:01</td>\n",
       "      <td>1.316529e+18</td>\n",
       "      <td>#Elecciones2020 | En #Florida: #JoeBiden dice ...</td>\n",
       "      <td>0.0</td>\n",
       "      <td>0.0</td>\n",
       "      <td>TweetDeck</td>\n",
       "      <td>3.606665e+08</td>\n",
       "      <td>El Sol Latino News</td>\n",
       "      <td>elsollatinonews</td>\n",
       "      <td>🌐 Noticias de interés para latinos de la costa...</td>\n",
       "      <td>...</td>\n",
       "      <td>1860.0</td>\n",
       "      <td>Philadelphia, PA / Miami, FL</td>\n",
       "      <td>25.774270</td>\n",
       "      <td>-80.193660</td>\n",
       "      <td>NaN</td>\n",
       "      <td>United States of America</td>\n",
       "      <td>North America</td>\n",
       "      <td>Florida</td>\n",
       "      <td>FL</td>\n",
       "      <td>2020-10-21 00:00:00</td>\n",
       "    </tr>\n",
       "    <tr>\n",
       "      <th>1</th>\n",
       "      <td>2020-10-15 00:00:18</td>\n",
       "      <td>1.316529e+18</td>\n",
       "      <td>#HunterBiden #HunterBidenEmails #JoeBiden #Joe...</td>\n",
       "      <td>0.0</td>\n",
       "      <td>0.0</td>\n",
       "      <td>Twitter for iPad</td>\n",
       "      <td>8.099044e+08</td>\n",
       "      <td>Cheri A. 🇺🇸</td>\n",
       "      <td>Biloximeemaw</td>\n",
       "      <td>Locked and loaded Meemaw. Love God, my family ...</td>\n",
       "      <td>...</td>\n",
       "      <td>6628.0</td>\n",
       "      <td>NaN</td>\n",
       "      <td>NaN</td>\n",
       "      <td>NaN</td>\n",
       "      <td>NaN</td>\n",
       "      <td>NaN</td>\n",
       "      <td>NaN</td>\n",
       "      <td>NaN</td>\n",
       "      <td>NaN</td>\n",
       "      <td>2020-10-21 00:00:00.517827283</td>\n",
       "    </tr>\n",
       "    <tr>\n",
       "      <th>2</th>\n",
       "      <td>2020-10-15 00:00:20</td>\n",
       "      <td>1.316529e+18</td>\n",
       "      <td>@IslandGirlPRV @BradBeauregardJ @MeidasTouch T...</td>\n",
       "      <td>0.0</td>\n",
       "      <td>0.0</td>\n",
       "      <td>Twitter Web App</td>\n",
       "      <td>3.494182e+09</td>\n",
       "      <td>Flag Waver</td>\n",
       "      <td>Flag_Wavers</td>\n",
       "      <td>NaN</td>\n",
       "      <td>...</td>\n",
       "      <td>1536.0</td>\n",
       "      <td>Golden Valley Arizona</td>\n",
       "      <td>46.304036</td>\n",
       "      <td>-109.171431</td>\n",
       "      <td>NaN</td>\n",
       "      <td>United States of America</td>\n",
       "      <td>North America</td>\n",
       "      <td>Montana</td>\n",
       "      <td>MT</td>\n",
       "      <td>2020-10-21 00:00:01.035654566</td>\n",
       "    </tr>\n",
       "    <tr>\n",
       "      <th>3</th>\n",
       "      <td>2020-10-15 00:00:21</td>\n",
       "      <td>1.316529e+18</td>\n",
       "      <td>@chrislongview Watching and setting dvr. Let’s...</td>\n",
       "      <td>0.0</td>\n",
       "      <td>0.0</td>\n",
       "      <td>Twitter for iPhone</td>\n",
       "      <td>8.242596e+17</td>\n",
       "      <td>Michelle Ferg</td>\n",
       "      <td>MichelleFerg4</td>\n",
       "      <td>NaN</td>\n",
       "      <td>...</td>\n",
       "      <td>27.0</td>\n",
       "      <td>NaN</td>\n",
       "      <td>NaN</td>\n",
       "      <td>NaN</td>\n",
       "      <td>NaN</td>\n",
       "      <td>NaN</td>\n",
       "      <td>NaN</td>\n",
       "      <td>NaN</td>\n",
       "      <td>NaN</td>\n",
       "      <td>2020-10-21 00:00:01.553481849</td>\n",
       "    </tr>\n",
       "    <tr>\n",
       "      <th>4</th>\n",
       "      <td>2020-10-15 00:00:22</td>\n",
       "      <td>1.316529e+18</td>\n",
       "      <td>#censorship #HunterBiden #Biden #BidenEmails #...</td>\n",
       "      <td>1.0</td>\n",
       "      <td>0.0</td>\n",
       "      <td>Twitter Web App</td>\n",
       "      <td>1.032807e+18</td>\n",
       "      <td>the Gold State</td>\n",
       "      <td>theegoldstate</td>\n",
       "      <td>A Silicon Valley #independent #News #Media #St...</td>\n",
       "      <td>...</td>\n",
       "      <td>390.0</td>\n",
       "      <td>California, USA</td>\n",
       "      <td>36.701463</td>\n",
       "      <td>-118.755997</td>\n",
       "      <td>NaN</td>\n",
       "      <td>United States of America</td>\n",
       "      <td>North America</td>\n",
       "      <td>California</td>\n",
       "      <td>CA</td>\n",
       "      <td>2020-10-21 00:00:02.071309132</td>\n",
       "    </tr>\n",
       "  </tbody>\n",
       "</table>\n",
       "<p>5 rows × 21 columns</p>\n",
       "</div>"
      ],
      "text/plain": [
       "            created_at      tweet_id  \\\n",
       "0  2020-10-15 00:00:01  1.316529e+18   \n",
       "1  2020-10-15 00:00:18  1.316529e+18   \n",
       "2  2020-10-15 00:00:20  1.316529e+18   \n",
       "3  2020-10-15 00:00:21  1.316529e+18   \n",
       "4  2020-10-15 00:00:22  1.316529e+18   \n",
       "\n",
       "                                               tweet  likes  retweet_count  \\\n",
       "0  #Elecciones2020 | En #Florida: #JoeBiden dice ...    0.0            0.0   \n",
       "1  #HunterBiden #HunterBidenEmails #JoeBiden #Joe...    0.0            0.0   \n",
       "2  @IslandGirlPRV @BradBeauregardJ @MeidasTouch T...    0.0            0.0   \n",
       "3  @chrislongview Watching and setting dvr. Let’s...    0.0            0.0   \n",
       "4  #censorship #HunterBiden #Biden #BidenEmails #...    1.0            0.0   \n",
       "\n",
       "               source       user_id           user_name user_screen_name  \\\n",
       "0           TweetDeck  3.606665e+08  El Sol Latino News  elsollatinonews   \n",
       "1    Twitter for iPad  8.099044e+08         Cheri A. 🇺🇸     Biloximeemaw   \n",
       "2     Twitter Web App  3.494182e+09          Flag Waver      Flag_Wavers   \n",
       "3  Twitter for iPhone  8.242596e+17       Michelle Ferg    MichelleFerg4   \n",
       "4     Twitter Web App  1.032807e+18      the Gold State    theegoldstate   \n",
       "\n",
       "                                    user_description  ...  \\\n",
       "0  🌐 Noticias de interés para latinos de la costa...  ...   \n",
       "1  Locked and loaded Meemaw. Love God, my family ...  ...   \n",
       "2                                                NaN  ...   \n",
       "3                                                NaN  ...   \n",
       "4  A Silicon Valley #independent #News #Media #St...  ...   \n",
       "\n",
       "  user_followers_count                 user_location        lat        long  \\\n",
       "0               1860.0  Philadelphia, PA / Miami, FL  25.774270  -80.193660   \n",
       "1               6628.0                           NaN        NaN         NaN   \n",
       "2               1536.0         Golden Valley Arizona  46.304036 -109.171431   \n",
       "3                 27.0                           NaN        NaN         NaN   \n",
       "4                390.0               California, USA  36.701463 -118.755997   \n",
       "\n",
       "   city                   country      continent       state state_code  \\\n",
       "0   NaN  United States of America  North America     Florida         FL   \n",
       "1   NaN                       NaN            NaN         NaN        NaN   \n",
       "2   NaN  United States of America  North America     Montana         MT   \n",
       "3   NaN                       NaN            NaN         NaN        NaN   \n",
       "4   NaN  United States of America  North America  California         CA   \n",
       "\n",
       "                    collected_at  \n",
       "0            2020-10-21 00:00:00  \n",
       "1  2020-10-21 00:00:00.517827283  \n",
       "2  2020-10-21 00:00:01.035654566  \n",
       "3  2020-10-21 00:00:01.553481849  \n",
       "4  2020-10-21 00:00:02.071309132  \n",
       "\n",
       "[5 rows x 21 columns]"
      ]
     },
     "execution_count": 8,
     "metadata": {},
     "output_type": "execute_result"
    }
   ],
   "source": [
    "biden.head()"
   ]
  },
  {
   "cell_type": "code",
   "execution_count": 9,
   "metadata": {},
   "outputs": [],
   "source": [
    "#Inserting a column with their names as values in order to do comparitive analysis\n",
    "biden.insert(loc = 2, column = \"candidate\", value = \"biden\")\n",
    "trump.insert(loc = 2, column = \"candidate\", value = \"trump\")"
   ]
  },
  {
   "cell_type": "code",
   "execution_count": 10,
   "metadata": {},
   "outputs": [],
   "source": [
    "#Merging the datasets\n",
    "main_df = biden.append(trump, ignore_index =True)"
   ]
  },
  {
   "cell_type": "code",
   "execution_count": 11,
   "metadata": {},
   "outputs": [
    {
     "name": "stdout",
     "output_type": "stream",
     "text": [
      "<class 'pandas.core.frame.DataFrame'>\n",
      "RangeIndex: 1747805 entries, 0 to 1747804\n",
      "Data columns (total 22 columns):\n",
      " #   Column                Dtype  \n",
      "---  ------                -----  \n",
      " 0   created_at            object \n",
      " 1   tweet_id              float64\n",
      " 2   candidate             object \n",
      " 3   tweet                 object \n",
      " 4   likes                 float64\n",
      " 5   retweet_count         float64\n",
      " 6   source                object \n",
      " 7   user_id               float64\n",
      " 8   user_name             object \n",
      " 9   user_screen_name      object \n",
      " 10  user_description      object \n",
      " 11  user_join_date        object \n",
      " 12  user_followers_count  float64\n",
      " 13  user_location         object \n",
      " 14  lat                   float64\n",
      " 15  long                  float64\n",
      " 16  city                  object \n",
      " 17  country               object \n",
      " 18  continent             object \n",
      " 19  state                 object \n",
      " 20  state_code            object \n",
      " 21  collected_at          object \n",
      "dtypes: float64(7), object(15)\n",
      "memory usage: 293.4+ MB\n"
     ]
    }
   ],
   "source": [
    "#Info about the main dataframe\n",
    "main_df.info()"
   ]
  },
  {
   "cell_type": "markdown",
   "metadata": {},
   "source": [
    "### Data Pre-processing"
   ]
  },
  {
   "cell_type": "markdown",
   "metadata": {},
   "source": [
    "#### Removing useless columns"
   ]
  },
  {
   "cell_type": "code",
   "execution_count": 12,
   "metadata": {},
   "outputs": [],
   "source": [
    "def remove_cols(main_df, cols):\n",
    "    main_df.drop(columns = cols, inplace = True)\n",
    "    return main_df"
   ]
  },
  {
   "cell_type": "code",
   "execution_count": 13,
   "metadata": {},
   "outputs": [],
   "source": [
    "cols_to_drop = [\"user_id\", \"user_name\", \"user_screen_name\", \"collected_at\"] #Columns to drop\n",
    "\n",
    "#Dropping the irrelevant columns \n",
    "main_df = remove_cols(main_df, cols_to_drop)"
   ]
  },
  {
   "cell_type": "markdown",
   "metadata": {},
   "source": [
    "#### Parsing the Created at feature"
   ]
  },
  {
   "cell_type": "code",
   "execution_count": 14,
   "metadata": {},
   "outputs": [],
   "source": [
    "main_df.created_at = main_df.created_at.astype(\"datetime64\")"
   ]
  },
  {
   "cell_type": "code",
   "execution_count": 15,
   "metadata": {},
   "outputs": [],
   "source": [
    "def create_date_time_cols(main_df, col_name):\n",
    "    cols = [\"day\", \"month\", \"day_of_week\", \"hour\"]\n",
    "    \n",
    "    #Dropping the columns if they already exist\n",
    "    for i in cols:\n",
    "        if col_name + i in main_df.columns:\n",
    "            main_df.drop(columns = col_name + i, inplace = True)\n",
    "    col = main_df[col_name]\n",
    "    pos = main_df.columns.get_loc(col_name) + 1\n",
    "    main_df.insert(loc = pos, column = col_name + \"_day\", value = col.dt.day)                         #Day of the month\n",
    "    main_df.insert(loc = pos, column = col_name + \"_month\", value = col.dt.month_name())              #Name of the month\n",
    "    main_df.insert(loc = pos, column = col_name + \"_day_of_week\", value = col.dt.dayofweek)           #Day of the week\n",
    "    main_df.insert(loc = pos, column = col_name + \"_hour\", value = col.dt.hour)                       #Hour\n",
    "    \n",
    "    return main_df"
   ]
  },
  {
   "cell_type": "code",
   "execution_count": 16,
   "metadata": {},
   "outputs": [],
   "source": [
    "#Creating new datetime features\n",
    "main_df = create_date_time_cols(main_df, \"created_at\")"
   ]
  },
  {
   "cell_type": "code",
   "execution_count": 17,
   "metadata": {},
   "outputs": [
    {
     "name": "stdout",
     "output_type": "stream",
     "text": [
      "<class 'pandas.core.frame.DataFrame'>\n",
      "RangeIndex: 1747805 entries, 0 to 1747804\n",
      "Data columns (total 22 columns):\n",
      " #   Column                  Dtype         \n",
      "---  ------                  -----         \n",
      " 0   created_at              datetime64[ns]\n",
      " 1   created_at_hour         int64         \n",
      " 2   created_at_day_of_week  int64         \n",
      " 3   created_at_month        object        \n",
      " 4   created_at_day          int64         \n",
      " 5   tweet_id                float64       \n",
      " 6   candidate               object        \n",
      " 7   tweet                   object        \n",
      " 8   likes                   float64       \n",
      " 9   retweet_count           float64       \n",
      " 10  source                  object        \n",
      " 11  user_description        object        \n",
      " 12  user_join_date          object        \n",
      " 13  user_followers_count    float64       \n",
      " 14  user_location           object        \n",
      " 15  lat                     float64       \n",
      " 16  long                    float64       \n",
      " 17  city                    object        \n",
      " 18  country                 object        \n",
      " 19  continent               object        \n",
      " 20  state                   object        \n",
      " 21  state_code              object        \n",
      "dtypes: datetime64[ns](1), float64(6), int64(3), object(12)\n",
      "memory usage: 293.4+ MB\n"
     ]
    }
   ],
   "source": [
    "main_df.info()"
   ]
  },
  {
   "cell_type": "markdown",
   "metadata": {},
   "source": [
    "#### Removing typos and redundancy"
   ]
  },
  {
   "cell_type": "code",
   "execution_count": 18,
   "metadata": {},
   "outputs": [
    {
     "name": "stdout",
     "output_type": "stream",
     "text": [
      "['Afghanistan', 'Albania', 'Algeria', 'Angola', 'Anguilla', 'Antigua and Barbuda', 'Argentina', 'Armenia', 'Australia', 'Austria', 'Azerbaijan', 'Bahamas', 'Bahrain', 'Bangladesh', 'Barbados', 'Belarus', 'Belgium', 'Belize', 'Benin', 'Bolivia', 'Bosnia and Herzegovina', 'Brazil', 'British Virgin Islands', 'Bulgaria', 'Burkina Faso', 'Cambodia', 'Cameroon', 'Canada', 'Cape Verde', 'Cayman Islands', 'Chile', 'China', 'Colombia', 'Congo', 'Congo-Brazzaville', 'Costa Rica', 'Croatia', 'Cuba', 'Cyprus', 'Czech Republic', \"Côte d'Ivoire\", 'Democratic Republic of the Congo', 'Denmark', 'Djibouti', 'Dominica', 'Dominican Republic', 'East Timor', 'Ecuador', 'Egypt', 'El Salvador', 'Estonia', 'Ethiopia', 'Falkland Islands', 'Faroe Islands', 'Federated States of Micronesia', 'Fiji', 'Finland', 'France', 'Gabon', 'Georgia', 'Germany', 'Ghana', 'Gibraltar', 'Greece', 'Greenland', 'Grenada', 'Guatemala', 'Guinea', 'Guyana', 'Haiti', 'Honduras', 'Hong Kong', 'Hungary', 'Iceland', 'India', 'Indonesia', 'Iran', 'Iraq', 'Ireland', 'Isle of Man', 'Israel', 'Italy', 'Jamaika', 'Japan', 'Jersey', 'Jordan', 'Kazakhstan', 'Kenya', 'Kiribati', 'Kosovo', 'Kuwait', 'Laos', 'Latvia', 'Lebanon', 'Lesotho', 'Liberia', 'Libya', 'Liechtenstein', 'Lithuania', 'Luxembourg', 'Madagascar', 'Malaysia', 'Maldives', 'Mali', 'Malta', 'Mauritius', 'Mexico', 'Moldova', 'Monaco', 'Mongolia', 'Montenegro', 'Morocco', 'Myanmar', 'Namibia', 'Nepal', 'Netherlands', 'New Zealand', 'Nicaragua', 'Niger', 'Nigeria', 'North Korea', 'North Macedonia', 'Northern Mariana Islands', 'Norway', 'Oman', 'Pakistan', 'Palestinian Territory', 'Panama', 'Papua New Guinea', 'Paraguay', 'Peru', 'Philippines', 'Poland', 'Portugal', 'Puerto Rico', 'Qatar', 'Republic of the Congo', 'Romania', 'Russia', 'Rwanda', 'Saint Kitts and Nevis', 'Saint Lucia', 'Samoa', 'Saudi Arabia', 'Senegal', 'Serbia', 'Seychelles', 'Sierra Leone', 'Singapore', 'Slovakia', 'Slovenia', 'Somalia', 'South Africa', 'South Korea', 'South Sudan', 'Spain', 'Sri Lanka', 'Sudan', 'Suriname', 'Sweden', 'Switzerland', 'Syria', 'Taiwan', 'Tajikistan', 'Tanzania', 'Thailand', 'The Bahamas', 'The Gambia', 'The Netherlands', 'Tonga', 'Trinidad and Tobago', 'Tunisia', 'Turkey', 'Turks and Caicos Islands', 'Uganda', 'Ukraine', 'United Arab Emirates', 'United Kingdom', 'United States', 'United States of America', 'Uruguay', 'Uzbekistan', 'Vanuatu', 'Vatican City', 'Venezuela', 'Vietnam', 'Yemen', 'Zambia', 'Zimbabwe']\n"
     ]
    }
   ],
   "source": [
    "countries_list = sorted(main_df[~main_df.country.isna()].country.unique())\n",
    "print(countries_list)"
   ]
  },
  {
   "cell_type": "markdown",
   "metadata": {},
   "source": [
    "The labels United States of America, United States refer to the same country."
   ]
  },
  {
   "cell_type": "code",
   "execution_count": 19,
   "metadata": {},
   "outputs": [],
   "source": [
    "#Making correction in country name\n",
    "main_df.country.replace(to_replace = \"United States\", value = \"United States of America\", inplace = True)"
   ]
  },
  {
   "cell_type": "code",
   "execution_count": 20,
   "metadata": {
    "scrolled": false
   },
   "outputs": [
    {
     "data": {
      "text/html": [
       "<div>\n",
       "<style scoped>\n",
       "    .dataframe tbody tr th:only-of-type {\n",
       "        vertical-align: middle;\n",
       "    }\n",
       "\n",
       "    .dataframe tbody tr th {\n",
       "        vertical-align: top;\n",
       "    }\n",
       "\n",
       "    .dataframe thead th {\n",
       "        text-align: right;\n",
       "    }\n",
       "</style>\n",
       "<table border=\"1\" class=\"dataframe\">\n",
       "  <thead>\n",
       "    <tr style=\"text-align: right;\">\n",
       "      <th></th>\n",
       "      <th>created_at</th>\n",
       "      <th>created_at_hour</th>\n",
       "      <th>created_at_day_of_week</th>\n",
       "      <th>created_at_month</th>\n",
       "      <th>created_at_day</th>\n",
       "      <th>tweet_id</th>\n",
       "      <th>candidate</th>\n",
       "      <th>tweet</th>\n",
       "      <th>likes</th>\n",
       "      <th>retweet_count</th>\n",
       "      <th>...</th>\n",
       "      <th>user_join_date</th>\n",
       "      <th>user_followers_count</th>\n",
       "      <th>user_location</th>\n",
       "      <th>lat</th>\n",
       "      <th>long</th>\n",
       "      <th>city</th>\n",
       "      <th>country</th>\n",
       "      <th>continent</th>\n",
       "      <th>state</th>\n",
       "      <th>state_code</th>\n",
       "    </tr>\n",
       "  </thead>\n",
       "  <tbody>\n",
       "    <tr>\n",
       "      <th>0</th>\n",
       "      <td>2020-10-15 00:00:01</td>\n",
       "      <td>0</td>\n",
       "      <td>3</td>\n",
       "      <td>October</td>\n",
       "      <td>15</td>\n",
       "      <td>1.316529e+18</td>\n",
       "      <td>biden</td>\n",
       "      <td>#Elecciones2020 | En #Florida: #JoeBiden dice ...</td>\n",
       "      <td>0.0</td>\n",
       "      <td>0.0</td>\n",
       "      <td>...</td>\n",
       "      <td>2011-08-23 15:33:45</td>\n",
       "      <td>1860.0</td>\n",
       "      <td>Philadelphia, PA / Miami, FL</td>\n",
       "      <td>25.774270</td>\n",
       "      <td>-80.193660</td>\n",
       "      <td>NaN</td>\n",
       "      <td>United States of America</td>\n",
       "      <td>North America</td>\n",
       "      <td>Florida</td>\n",
       "      <td>FL</td>\n",
       "    </tr>\n",
       "    <tr>\n",
       "      <th>1</th>\n",
       "      <td>2020-10-15 00:00:18</td>\n",
       "      <td>0</td>\n",
       "      <td>3</td>\n",
       "      <td>October</td>\n",
       "      <td>15</td>\n",
       "      <td>1.316529e+18</td>\n",
       "      <td>biden</td>\n",
       "      <td>#HunterBiden #HunterBidenEmails #JoeBiden #Joe...</td>\n",
       "      <td>0.0</td>\n",
       "      <td>0.0</td>\n",
       "      <td>...</td>\n",
       "      <td>2012-09-08 01:03:57</td>\n",
       "      <td>6628.0</td>\n",
       "      <td>NaN</td>\n",
       "      <td>NaN</td>\n",
       "      <td>NaN</td>\n",
       "      <td>NaN</td>\n",
       "      <td>NaN</td>\n",
       "      <td>NaN</td>\n",
       "      <td>NaN</td>\n",
       "      <td>NaN</td>\n",
       "    </tr>\n",
       "    <tr>\n",
       "      <th>2</th>\n",
       "      <td>2020-10-15 00:00:20</td>\n",
       "      <td>0</td>\n",
       "      <td>3</td>\n",
       "      <td>October</td>\n",
       "      <td>15</td>\n",
       "      <td>1.316529e+18</td>\n",
       "      <td>biden</td>\n",
       "      <td>@IslandGirlPRV @BradBeauregardJ @MeidasTouch T...</td>\n",
       "      <td>0.0</td>\n",
       "      <td>0.0</td>\n",
       "      <td>...</td>\n",
       "      <td>2015-08-30 19:38:21</td>\n",
       "      <td>1536.0</td>\n",
       "      <td>Golden Valley Arizona</td>\n",
       "      <td>46.304036</td>\n",
       "      <td>-109.171431</td>\n",
       "      <td>NaN</td>\n",
       "      <td>United States of America</td>\n",
       "      <td>North America</td>\n",
       "      <td>Montana</td>\n",
       "      <td>MT</td>\n",
       "    </tr>\n",
       "    <tr>\n",
       "      <th>3</th>\n",
       "      <td>2020-10-15 00:00:21</td>\n",
       "      <td>0</td>\n",
       "      <td>3</td>\n",
       "      <td>October</td>\n",
       "      <td>15</td>\n",
       "      <td>1.316529e+18</td>\n",
       "      <td>biden</td>\n",
       "      <td>@chrislongview Watching and setting dvr. Let’s...</td>\n",
       "      <td>0.0</td>\n",
       "      <td>0.0</td>\n",
       "      <td>...</td>\n",
       "      <td>2017-01-25 14:16:17</td>\n",
       "      <td>27.0</td>\n",
       "      <td>NaN</td>\n",
       "      <td>NaN</td>\n",
       "      <td>NaN</td>\n",
       "      <td>NaN</td>\n",
       "      <td>NaN</td>\n",
       "      <td>NaN</td>\n",
       "      <td>NaN</td>\n",
       "      <td>NaN</td>\n",
       "    </tr>\n",
       "    <tr>\n",
       "      <th>4</th>\n",
       "      <td>2020-10-15 00:00:22</td>\n",
       "      <td>0</td>\n",
       "      <td>3</td>\n",
       "      <td>October</td>\n",
       "      <td>15</td>\n",
       "      <td>1.316529e+18</td>\n",
       "      <td>biden</td>\n",
       "      <td>#censorship #HunterBiden #Biden #BidenEmails #...</td>\n",
       "      <td>1.0</td>\n",
       "      <td>0.0</td>\n",
       "      <td>...</td>\n",
       "      <td>2018-08-24 01:49:01</td>\n",
       "      <td>390.0</td>\n",
       "      <td>California, USA</td>\n",
       "      <td>36.701463</td>\n",
       "      <td>-118.755997</td>\n",
       "      <td>NaN</td>\n",
       "      <td>United States of America</td>\n",
       "      <td>North America</td>\n",
       "      <td>California</td>\n",
       "      <td>CA</td>\n",
       "    </tr>\n",
       "  </tbody>\n",
       "</table>\n",
       "<p>5 rows × 22 columns</p>\n",
       "</div>"
      ],
      "text/plain": [
       "           created_at  created_at_hour  created_at_day_of_week  \\\n",
       "0 2020-10-15 00:00:01                0                       3   \n",
       "1 2020-10-15 00:00:18                0                       3   \n",
       "2 2020-10-15 00:00:20                0                       3   \n",
       "3 2020-10-15 00:00:21                0                       3   \n",
       "4 2020-10-15 00:00:22                0                       3   \n",
       "\n",
       "  created_at_month  created_at_day      tweet_id candidate  \\\n",
       "0          October              15  1.316529e+18     biden   \n",
       "1          October              15  1.316529e+18     biden   \n",
       "2          October              15  1.316529e+18     biden   \n",
       "3          October              15  1.316529e+18     biden   \n",
       "4          October              15  1.316529e+18     biden   \n",
       "\n",
       "                                               tweet  likes  retweet_count  \\\n",
       "0  #Elecciones2020 | En #Florida: #JoeBiden dice ...    0.0            0.0   \n",
       "1  #HunterBiden #HunterBidenEmails #JoeBiden #Joe...    0.0            0.0   \n",
       "2  @IslandGirlPRV @BradBeauregardJ @MeidasTouch T...    0.0            0.0   \n",
       "3  @chrislongview Watching and setting dvr. Let’s...    0.0            0.0   \n",
       "4  #censorship #HunterBiden #Biden #BidenEmails #...    1.0            0.0   \n",
       "\n",
       "   ...       user_join_date user_followers_count  \\\n",
       "0  ...  2011-08-23 15:33:45               1860.0   \n",
       "1  ...  2012-09-08 01:03:57               6628.0   \n",
       "2  ...  2015-08-30 19:38:21               1536.0   \n",
       "3  ...  2017-01-25 14:16:17                 27.0   \n",
       "4  ...  2018-08-24 01:49:01                390.0   \n",
       "\n",
       "                  user_location        lat        long  city  \\\n",
       "0  Philadelphia, PA / Miami, FL  25.774270  -80.193660   NaN   \n",
       "1                           NaN        NaN         NaN   NaN   \n",
       "2         Golden Valley Arizona  46.304036 -109.171431   NaN   \n",
       "3                           NaN        NaN         NaN   NaN   \n",
       "4               California, USA  36.701463 -118.755997   NaN   \n",
       "\n",
       "                    country      continent       state state_code  \n",
       "0  United States of America  North America     Florida         FL  \n",
       "1                       NaN            NaN         NaN        NaN  \n",
       "2  United States of America  North America     Montana         MT  \n",
       "3                       NaN            NaN         NaN        NaN  \n",
       "4  United States of America  North America  California         CA  \n",
       "\n",
       "[5 rows x 22 columns]"
      ]
     },
     "execution_count": 20,
     "metadata": {},
     "output_type": "execute_result"
    }
   ],
   "source": [
    "main_df.head()"
   ]
  },
  {
   "cell_type": "markdown",
   "metadata": {},
   "source": [
    "### Exploring Data"
   ]
  },
  {
   "cell_type": "code",
   "execution_count": null,
   "metadata": {
    "scrolled": true
   },
   "outputs": [],
   "source": []
  },
  {
   "cell_type": "markdown",
   "metadata": {},
   "source": [
    "###  Semantic Analysis"
   ]
  },
  {
   "cell_type": "code",
   "execution_count": 21,
   "metadata": {},
   "outputs": [],
   "source": [
    "#Removing the URLs from the tweet\n",
    "pattern = r\"https://t.co/\\w+\\s?\\b\" #Pattern to match the URL\n",
    "main_df.tweet.replace(to_replace = pattern, value = \"\", regex = True, inplace = True) #Calling the replace method"
   ]
  },
  {
   "cell_type": "code",
   "execution_count": 22,
   "metadata": {
    "scrolled": true
   },
   "outputs": [],
   "source": [
    "#Extracting tags from the tweets\n",
    "pattern = r\"@\\w+[@#$%^&*/(/)]?\\w+\" #Pattern to match the tags\n",
    "tags_series = []\n",
    "\n",
    "for i in main_df[\"tweet\"]:\n",
    "    tags_list = re.findall(pattern, i) #Using the Regex findall method to extract all the tags\n",
    "    if len(tags_list):\n",
    "        tags_series.append(list(set(tags_list)))\n",
    "    else:\n",
    "        tags_series.append(np.nan) #Appending NaN if no tag is present\n",
    "        \n",
    "if \"tags\" not in main_df.columns:\n",
    "    pos =  main_df.columns.get_loc(\"tweet\")+1 #Position at which new column is to be inserted\n",
    "    main_df.insert(pos, column = \"tags\", value = pd.Series(tags_series)) #Calling the insert method"
   ]
  },
  {
   "cell_type": "code",
   "execution_count": 23,
   "metadata": {},
   "outputs": [],
   "source": [
    "#Removing the tags from the tweet\n",
    "pattern = r\"@\" #Pattern to match the tags\n",
    "main_df.tweet.replace(to_replace = pattern, value = \"\", regex = True, inplace = True) #Calling the replace method"
   ]
  },
  {
   "cell_type": "code",
   "execution_count": 24,
   "metadata": {},
   "outputs": [],
   "source": [
    "#Extracting hashtags from the tweets\n",
    "pattern = r\"#\\w+[$%^&*/(/)]?\\w+\" #Pattern to match the hashtags\n",
    "hashtag_series = []\n",
    "\n",
    "for i in main_df[\"tweet\"]:\n",
    "    hashtags_list = re.findall(pattern, i) #Using the Regex findall method to extract all the hashtags\n",
    "    if len(hashtags_list):\n",
    "        hashtag_series.append(list(set(hashtags_list)))\n",
    "    else:\n",
    "        hashtag_series.append(np.nan) #Appending NaN if no tag is present\n",
    "\n",
    "if \"hashtags\" not in main_df.columns:\n",
    "    pos =  main_df.columns.get_loc(\"tweet\")+1 #Position at which new column is to be inserted\n",
    "    main_df.insert(pos, column = \"hashtags\", value = pd.Series(hashtag_series)) #Calling the insert method"
   ]
  },
  {
   "cell_type": "code",
   "execution_count": 25,
   "metadata": {},
   "outputs": [],
   "source": [
    "#Removing the hashtags from the tweet\n",
    "pattern = r\"#\\w+[$%^&*/(/)]?\\w+\" #Pattern to match the hashtags\n",
    "main_df.tweet.replace(to_replace = pattern, value = \"\", regex = True, inplace = True) #Calling the replace method"
   ]
  },
  {
   "cell_type": "code",
   "execution_count": 26,
   "metadata": {},
   "outputs": [],
   "source": [
    "#Stripping the tweets of any whitespaces\n",
    "main_df.loc[:,\"tweet\"] = main_df.tweet.str.strip()"
   ]
  },
  {
   "cell_type": "code",
   "execution_count": 27,
   "metadata": {},
   "outputs": [],
   "source": [
    "#Initializing the tweet tokenizer object\n",
    "tokenizer = nltk.tokenize.TweetTokenizer()"
   ]
  },
  {
   "cell_type": "code",
   "execution_count": 30,
   "metadata": {
    "scrolled": true
   },
   "outputs": [],
   "source": [
    "#Tokenizing the tweets of biden and trump\n",
    "biden_tweets = [tokenizer.tokenize(tweet) for tweet in main_df[main_df.candidate == \"biden\"][\"tweet\"]  if len(tweet) > 0]\n",
    "trump_tweets = [tokenizer.tokenize(tweet) for tweet in main_df[main_df.candidate == \"trump\"][\"tweet\"]  if len(tweet) > 0]"
   ]
  },
  {
   "cell_type": "code",
   "execution_count": 35,
   "metadata": {},
   "outputs": [],
   "source": [
    "trump.drop(columns = biden.columns, inplace = True )"
   ]
  },
  {
   "cell_type": "code",
   "execution_count": null,
   "metadata": {},
   "outputs": [],
   "source": []
  }
 ],
 "metadata": {
  "kernelspec": {
   "display_name": "Python 3",
   "language": "python",
   "name": "python3"
  },
  "language_info": {
   "codemirror_mode": {
    "name": "ipython",
    "version": 3
   },
   "file_extension": ".py",
   "mimetype": "text/x-python",
   "name": "python",
   "nbconvert_exporter": "python",
   "pygments_lexer": "ipython3",
   "version": "3.8.3"
  }
 },
 "nbformat": 4,
 "nbformat_minor": 4
}
